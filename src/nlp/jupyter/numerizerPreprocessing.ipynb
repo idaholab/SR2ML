{
 "cells": [
  {
   "cell_type": "markdown",
   "id": "57e9345f",
   "metadata": {},
   "source": [
    "# numerizer Preprocessing\n",
    "The numerizer package converts natural language numerics into ints and floats. The package does not have a lot of documentation, but seems simple to use.\n",
    "\n",
    "See also:\n",
    "\n",
    "https://github.com/jaidevd/numerizer"
   ]
  },
  {
   "cell_type": "markdown",
   "id": "a91180aa",
   "metadata": {},
   "source": [
    "## numerizer Acting on Strings"
   ]
  },
  {
   "cell_type": "code",
   "execution_count": 2,
   "id": "d84aa254",
   "metadata": {},
   "outputs": [
    {
     "name": "stdout",
     "output_type": "stream",
     "text": [
      "42\n",
      "42\n",
      "462\n",
      "150\n",
      "1200\n",
      "21473\n",
      "1000000001\n",
      "9.75\n",
      "platform 9.75\n"
     ]
    }
   ],
   "source": [
    "from numerizer import numerize\n",
    "\n",
    "print(numerize('forty two'))\n",
    "print(numerize('forty-two'))\n",
    "print(numerize('four hundred and sixty two'))\n",
    "print(numerize('one fifty'))\n",
    "print(numerize('twelve hundred'))\n",
    "print(numerize('twenty one thousand four hundred and seventy three'))\n",
    "print(numerize('one billion and one'))\n",
    "print(numerize('nine and three quarters'))\n",
    "print(numerize('platform nine and three quarters'))"
   ]
  },
  {
   "cell_type": "markdown",
   "id": "e0200dae",
   "metadata": {},
   "source": [
    "## numerizer Optional Arguments\n",
    "numerizer can take in the optional arguments `ignore` and `bias`\n",
    "\n",
    "`ignore` - provide list of words to ignore\n",
    "\n",
    "`bias` - str, can be 'ordinal', 'fractional', 'fractionals'"
   ]
  },
  {
   "cell_type": "code",
   "execution_count": 3,
   "id": "b28f46a6",
   "metadata": {},
   "outputs": [],
   "source": [
    "text = (\n",
    "        \"squash a bug\\n\"\n",
    "        \"crash a car\\n\"\n",
    "        \"An\\n\"\n",
    "        \"an\\n\"\n",
    "        \"A\\n\"\n",
    "        \"first\\n\"\n",
    "        \"two\\n\"\n",
    "        \"second\\n\"\n",
    "        \"forty-second\\n\"\n",
    "        \"two thirds\\n\"\n",
    "        \"one fourth\\n\"\n",
    "        \"one quarter\\n\"\n",
    "        \"one half\\n\"\n",
    "        \"nine and three quarters\\n\"\n",
    "        \"I saw A BIRD\"\n",
    ")"
   ]
  },
  {
   "cell_type": "code",
   "execution_count": 4,
   "id": "028a720b",
   "metadata": {},
   "outputs": [
    {
     "name": "stdout",
     "output_type": "stream",
     "text": [
      "Original                | No args          | ignore=['second'] | bias='ordinal'   | bias='fractional' | bias='fractionals' |\n",
      "============================================================================================================================\n",
      "squash a bug            | squash 1 bug     | squash 1 bug      | squash 1 bug     | squash 1 bug      | squash 1 bug       |\n",
      "crash a car             | crash a car      | crash a car       | crash a car      | crash a car       | crash a car        |\n",
      "An                      | An               | An                | An               | An                | An                 |\n",
      "an                      | an               | an                | an               | an                | an                 |\n",
      "A                       | A                | A                 | A                | A                 | A                  |\n",
      "first                   | 1st              | 1st               | 1st              | 1st               | first              |\n",
      "two                     | 2                | 2                 | 2                | 2                 | 2                  |\n",
      "second                  | 2nd              | second            | second           | 2nd               | second             |\n",
      "forty-second            | 42nd             | 40 second         | 42nd             | 42nd              | 42nd               |\n",
      "two thirds              | 2/3              | 2/3               | 2/3              | 2/3               | 2/3                |\n",
      "one fourth              | 1 fourth         | 1 fourth          | 1 fourth         | 1 fourth          | 1 fourth           |\n",
      "one quarter             | 1/4              | 1/4               | 1/4              | 1 quarter         | 1/4                |\n",
      "one half                | 1 1/2            | 1 1/2             | 1 1/2            | 1 1/2             | 1 1/2              |\n",
      "nine and three quarters | 9 and 3 quarters | 9 and 3 quarters  | 9 and 3 quarters | 9 and 3 quarters  | 9 and 3 quarters   |\n",
      "I saw A BIRD            | I saw A BIRD     | I saw A BIRD      | I saw A BIRD     | I saw A BIRD      | I saw A BIRD       |\n"
     ]
    }
   ],
   "source": [
    "text_list = text.split('\\n')\n",
    "no = numerize(text)\n",
    "no_list = no.split('\\n')\n",
    "ignore = numerize(text, ignore=['second'])\n",
    "ignore_list = ignore.split('\\n')\n",
    "ordinal = numerize(text, bias='ordinal')\n",
    "ordinal_list = ordinal.split('\\n')\n",
    "fractional = numerize(text, bias='fractional')\n",
    "fractional_list = fractional.split('\\n')\n",
    "fractionals = numerize(text, bias='fractionals')\n",
    "fractionals_list = fractionals.split('\\n')\n",
    "print(\"Original                | No args          | ignore=['second'] | bias='ordinal'   | bias='fractional' | bias='fractionals' |\")\n",
    "print(\"============================================================================================================================\")\n",
    "for orig, non, ig, ordi, frac, fracs in zip(text_list, no_list, ignore_list, ordinal_list, fractional_list, fractionals_list):\n",
    "    print(f\"{orig:23} | {non:16} | {ig:17} | {ordi:16} | {frac:17} | {fracs:18} |\")"
   ]
  },
  {
   "cell_type": "markdown",
   "id": "c7eb870b",
   "metadata": {},
   "source": [
    "Note that the first time numerizer sees 'A' or 'a' it gets changed to '1'."
   ]
  },
  {
   "cell_type": "markdown",
   "id": "4822daa6",
   "metadata": {},
   "source": [
    "## numerizer as SpaCy Extenstion"
   ]
  },
  {
   "cell_type": "code",
   "execution_count": 5,
   "id": "1ebc95bb",
   "metadata": {},
   "outputs": [],
   "source": [
    "import spacy\n",
    "nlp = spacy.load('en_core_web_sm')\n",
    "doc = nlp('The projected revenue for the next quarter is over two million dollars.')"
   ]
  },
  {
   "cell_type": "code",
   "execution_count": 6,
   "id": "7fa748f8",
   "metadata": {},
   "outputs": [
    {
     "data": {
      "text/plain": [
       "{the next quarter: 'the next1/4', two million dollars: '2000000 dollars'}"
      ]
     },
     "execution_count": 6,
     "metadata": {},
     "output_type": "execute_result"
    }
   ],
   "source": [
    "doc._.numerize()"
   ]
  },
  {
   "cell_type": "code",
   "execution_count": 7,
   "id": "37bfdbd9",
   "metadata": {},
   "outputs": [
    {
     "data": {
      "text/plain": [
       "{two million dollars: '2000000 dollars'}"
      ]
     },
     "execution_count": 7,
     "metadata": {},
     "output_type": "execute_result"
    }
   ],
   "source": [
    "doc._.numerize(labels=['MONEY'])"
   ]
  },
  {
   "cell_type": "code",
   "execution_count": 8,
   "id": "bf6b8220",
   "metadata": {},
   "outputs": [
    {
     "data": {
      "text/plain": [
       "'2000000'"
      ]
     },
     "execution_count": 8,
     "metadata": {},
     "output_type": "execute_result"
    }
   ],
   "source": [
    "two_million = doc[-4:-2]\n",
    "two_million._.numerize()"
   ]
  },
  {
   "cell_type": "code",
   "execution_count": 9,
   "id": "3f0b6a39",
   "metadata": {},
   "outputs": [
    {
     "data": {
      "text/plain": [
       "'1/4'"
      ]
     },
     "execution_count": 9,
     "metadata": {},
     "output_type": "execute_result"
    }
   ],
   "source": [
    "quarter = doc[6]\n",
    "quarter._.numerized"
   ]
  },
  {
   "cell_type": "code",
   "execution_count": 21,
   "id": "2701b40f-252c-4028-8c66-b7e268d6f83d",
   "metadata": {},
   "outputs": [],
   "source": [
    "# Currently have issue with ImportError: cannot import name 'UNICODE_EMOJI' from 'emoji'\n",
    "\n",
    "# from recognizers_text import Culture, ModelResult\n",
    "# from recognizers_number import NumberRecognizer\n",
    "# from recognizers_number_with_unit import NumberWithUnitRecognizer \n",
    "# from recognizers_date_time import DateTimeRecognizer \n",
    "# from recognizers_sequence import SequenceRecognizer "
   ]
  },
  {
   "cell_type": "code",
   "execution_count": null,
   "id": "dfb34987-fd54-4abe-a595-ec93e950b766",
   "metadata": {},
   "outputs": [],
   "source": []
  }
 ],
 "metadata": {
  "hide_input": false,
  "kernelspec": {
   "display_name": "Python 3 (ipykernel)",
   "language": "python",
   "name": "python3"
  },
  "language_info": {
   "codemirror_mode": {
    "name": "ipython",
    "version": 3
   },
   "file_extension": ".py",
   "mimetype": "text/x-python",
   "name": "python",
   "nbconvert_exporter": "python",
   "pygments_lexer": "ipython3",
   "version": "3.9.10"
  }
 },
 "nbformat": 4,
 "nbformat_minor": 5
}
