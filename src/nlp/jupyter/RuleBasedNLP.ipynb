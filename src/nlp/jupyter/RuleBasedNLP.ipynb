{
 "cells": [
  {
   "cell_type": "markdown",
   "id": "32ea3767-c35e-416b-a4b5-b5d1370df1f3",
   "metadata": {},
   "source": [
    "# Demo for Rule Based Natural Language Processing"
   ]
  },
  {
   "cell_type": "markdown",
   "id": "bb843d35-59af-4e3f-9700-fc6f6e2aad0e",
   "metadata": {},
   "source": [
    "### Set up the path, so that the NLP modules can be found"
   ]
  },
  {
   "cell_type": "code",
   "execution_count": 7,
   "id": "0e32d652-af95-44d4-89a0-de554d2f33a2",
   "metadata": {},
   "outputs": [],
   "source": [
    "import os\n",
    "import sys\n",
    "nlpPath = os.path.abspath(os.path.join(os.getcwd(), '..', '..'))\n",
    "sys.path.append(nlpPath)"
   ]
  },
  {
   "cell_type": "markdown",
   "id": "80c89186-405c-471e-be16-e3e80cb9ab20",
   "metadata": {},
   "source": [
    "### Load Spacy module"
   ]
  },
  {
   "cell_type": "code",
   "execution_count": 26,
   "id": "4f0c40e5-bec7-4281-a313-80234c19b95f",
   "metadata": {},
   "outputs": [],
   "source": [
    "import spacy\n",
    "nlp = spacy.load(\"en_core_web_lg\", exclude=[])"
   ]
  },
  {
   "cell_type": "markdown",
   "id": "8c5f8cfc-2d85-4a53-bacc-d719614ea05b",
   "metadata": {},
   "source": [
    "### Load other modules"
   ]
  },
  {
   "cell_type": "code",
   "execution_count": 27,
   "id": "fdd6ef86-ce41-4813-aba4-70af07693a9f",
   "metadata": {},
   "outputs": [],
   "source": [
    "import pandas as pd"
   ]
  },
  {
   "cell_type": "markdown",
   "id": "386122b6-1ad0-469e-bc53-c2087857f649",
   "metadata": {},
   "source": [
    "### Import NLP modules "
   ]
  },
  {
   "cell_type": "code",
   "execution_count": 28,
   "id": "8126fb35-a9b1-45b1-b63d-b07b02e5dcf1",
   "metadata": {},
   "outputs": [],
   "source": [
    "from nlp.RuleBasedMatcher import RuleBasedMatcher\n",
    "from nlp import config\n",
    "from nlp.nlp_utils import generatePatternList\n",
    "from utils.nlpUtils.OPLparser import OPLentityParser"
   ]
  },
  {
   "cell_type": "markdown",
   "id": "1b31b48e-48b0-4dbe-8cf8-c78143c66b7f",
   "metadata": {},
   "source": [
    "###  Read and process entities"
   ]
  },
  {
   "cell_type": "code",
   "execution_count": 29,
   "id": "31319bfe-c0b9-4e9f-9c1f-a52bfae36215",
   "metadata": {},
   "outputs": [],
   "source": [
    "ents = []\n",
    "# Parse OPM model\n",
    "# some modifications, bearings --> pump bearings\n",
    "if 'opm_file' in config.nlpConfig['files']:\n",
    "    opmFile = config.nlpConfig['files']['opm_file']\n",
    "    formList, functionList = OPLentityParser(opmFile)\n",
    "    ents.extend(formList)\n",
    "if 'entity_file' in config.nlpConfig['files']:\n",
    "    entityFile = config.nlpConfig['files']['entity_file']\n",
    "    entityList = pd.read_csv(entityFile).values.ravel().tolist()\n",
    "    ents.extend(entityList)\n",
    "ents = set(ents)\n",
    "# convert opm formList into matcher patternsOPM\n",
    "label = \"pump_component\"\n",
    "entId = \"SSC\"\n",
    "\n",
    "patternsOPM = generatePatternList(ents, label=label, id=entId, nlp=nlp, attr=\"LEMMA\")"
   ]
  },
  {
   "cell_type": "markdown",
   "id": "0fcad635-1186-4816-b4c7-5f3ed3969f7f",
   "metadata": {},
   "source": [
    "### Read and process causal keywords "
   ]
  },
  {
   "cell_type": "code",
   "execution_count": 31,
   "id": "643de747-4981-4bdd-ab44-f4f1abb16f1a",
   "metadata": {},
   "outputs": [],
   "source": [
    "causalLabel = \"causal_keywords\"\n",
    "causalID = \"causal\"\n",
    "patternsCausal = []\n",
    "causalFilename = config.nlpConfig['files']['cause_effect_keywords_file']\n",
    "ds = pd.read_csv(causalFilename, skipinitialspace=True)\n",
    "for col in ds.columns:\n",
    "    vars = set(ds[col].dropna())\n",
    "    patternsCausal.extend(generatePatternList(vars, label=causalLabel, id=causalID, nlp=nlp, attr=\"LEMMA\"))"
   ]
  },
  {
   "cell_type": "markdown",
   "id": "0c932ecb-c784-4534-9e01-c631ab2e6866",
   "metadata": {},
   "source": [
    "### Create Rule-based matcher with entity list and causal entity list"
   ]
  },
  {
   "cell_type": "code",
   "execution_count": 33,
   "id": "8503b3c3-8a9e-4526-84b7-64cc8ccb9728",
   "metadata": {},
   "outputs": [],
   "source": [
    "name = 'ssc_entity_ruler'\n",
    "matcher = RuleBasedMatcher(nlp, entLabel=entId, causalKeywordLabel=causalID)\n",
    "matcher.addEntityPattern(name, patternsOPM)\n",
    "\n",
    "causalName = 'causal_keywords_entity_ruler'\n",
    "matcher.addEntityPattern(causalName, patternsCausal)"
   ]
  },
  {
   "cell_type": "markdown",
   "id": "ae0ca9d7-0474-4845-848c-a9d5ab504218",
   "metadata": {},
   "source": [
    "### Read input text file, or users can provide a raw string"
   ]
  },
  {
   "cell_type": "code",
   "execution_count": 34,
   "id": "e5ba4b71-c0ec-40dd-bcbb-51ce67de4b95",
   "metadata": {},
   "outputs": [],
   "source": [
    "textFile = config.nlpConfig['files']['text_file']\n",
    "with open(textFile, 'r') as ft:\n",
    "    doc = ft.read()"
   ]
  },
  {
   "cell_type": "markdown",
   "id": "747c033a-b2dc-4ea7-b084-f539649ef5d7",
   "metadata": {},
   "source": [
    "### Process raw string data using matcher"
   ]
  },
  {
   "cell_type": "code",
   "execution_count": 35,
   "id": "9cb4ae56-ea17-4289-b2c5-e3602ce4fd9f",
   "metadata": {},
   "outputs": [
    {
     "name": "stderr",
     "output_type": "stream",
     "text": [
      "Entity \"pump\" dep_ is \"advcl\" is not among valid list \"[nsubj, nsubjpass, pobj, dobj, compound]\"\n",
      "Entity \"pump\" dep_ is \"ccomp\" is not among valid list \"[nsubj, nsubjpass, pobj, dobj, compound]\"\n",
      "Entity \"pump\" dep_ is \"advcl\" is not among valid list \"[nsubj, nsubjpass, pobj, dobj, compound]\"\n"
     ]
    },
    {
     "name": "stdout",
     "output_type": "stream",
     "text": [
      "[('pump', 'pump_component', 'SSC'), ('pump', 'pump_component', 'SSC'), ('pump', 'pump_component', 'SSC'), ('pump', 'pump_component', 'SSC'), ('Pump', 'pump_component', 'SSC'), ('pump shaft', 'pump_component', 'SSC'), ('Pump', 'pump_component', 'SSC'), ('pump bearings', 'pump_component', 'SSC'), ('pump shaft', 'pump_component', 'SSC'), ('pump bearings', 'pump_component', 'SSC'), ('pump shaft', 'pump_component', 'SSC'), ('Power supply', 'pump_component', 'SSC'), ('Pump', 'pump_component', 'SSC'), ('power supply', 'pump_component', 'SSC'), ('Pump', 'pump_component', 'SSC'), ('impeller', 'pump_component', 'SSC'), ('Pump', 'pump_component', 'SSC'), ('impeller', 'pump_component', 'SSC'), ('pump', 'pump_component', 'SSC'), ('pump', 'pump_component', 'SSC'), ('pump shaft', 'pump_component', 'SSC'), ('pump', 'pump_component', 'SSC'), ('pump', 'pump_component', 'SSC'), ('pump shaft', 'pump_component', 'SSC'), ('motor', 'pump_component', 'SSC'), ('Pump', 'pump_component', 'SSC'), ('pump shaft', 'pump_component', 'SSC'), ('Pump', 'pump_component', 'SSC'), ('pumps', 'pump_component', 'SSC'), ('Pump shaft', 'pump_component', 'SSC'), ('pump shaft', 'pump_component', 'SSC'), ('pump shaft', 'pump_component', 'SSC'), ('Pump bearings', 'pump_component', 'SSC'), ('Pump', 'pump_component', 'SSC'), ('Pump shaft', 'pump_component', 'SSC')]\n",
      "0: Rupture(67), Rupture(77); 1: Several cracks(145), they(152); 2: shaft(264), it(272)\n",
      "Identified Cause-Effect Pairs:\n",
      "([[pump bearings]], [[pump shaft]], False)\n",
      "([[pump bearings]], [[pump shaft]], False)\n",
      "([[power supply]], [[Pump]], False)\n",
      "([[Pump]], [[impeller]], False)\n",
      "([[Pump]], [[impeller]], True)\n",
      "([[pump shaft]], [[pump]], True)\n",
      "([[pump shaft]], [[motor]], False)\n",
      "(bearings, caused, degradation)\n",
      "(bearings, caused, degradation)\n",
      "(inspection, revealed, degradation)\n",
      "(inspection, revealed, cavitation)\n",
      "(they, caused, failure)\n",
      "(Pump, keep, the check)\n",
      "(shaft, made, noise)\n",
      "(Pump, made, noises)\n"
     ]
    }
   ],
   "source": [
    "matcher(doc)"
   ]
  },
  {
   "cell_type": "markdown",
   "id": "a55e8ef2-a278-49a0-be0a-deac5a3328e1",
   "metadata": {},
   "source": [
    "### Access process"
   ]
  },
  {
   "cell_type": "code",
   "execution_count": 23,
   "id": "cdf032fd-3c88-46fc-9629-0762973669eb",
   "metadata": {},
   "outputs": [
    {
     "data": {
      "text/plain": [
       "[[pump bearings,\n",
       "  Rupture,\n",
       "  caused,\n",
       "  pump shaft,\n",
       "  degradation,\n",
       "  Rupture of pump bearings caused pump shaft degradation.,\n",
       "  False],\n",
       " [pump bearings,\n",
       "  Rupture,\n",
       "  caused,\n",
       "  pump shaft,\n",
       "  degradation,\n",
       "  Rupture of pump bearings caused pump shaft degradation and consequent flow reduction.,\n",
       "  False],\n",
       " [power supply,\n",
       "  failure,\n",
       "  due to,\n",
       "  Pump,\n",
       "  test,\n",
       "  Pump test failed due to power supply failure.,\n",
       "  False],\n",
       " [Pump,\n",
       "  inspection,\n",
       "  revealed,\n",
       "  impeller,\n",
       "  degradation,\n",
       "  Pump inspection revealed excessive impeller degradation.,\n",
       "  False],\n",
       " [Pump,\n",
       "  inspection,\n",
       "  revealed,\n",
       "  impeller,\n",
       "  degradation,\n",
       "  Pump inspection revealed excessive impeller degradation likely due to cavitation.,\n",
       "  True],\n",
       " [pump shaft,\n",
       "  Several cracks,\n",
       "  caused,\n",
       "  pump,\n",
       "  failure,\n",
       "  Several cracks on pump shaft were observed; they could have caused pump failure within few days.,\n",
       "  True],\n",
       " [pump shaft,\n",
       "  vibration,\n",
       "  causing,\n",
       "  motor,\n",
       "  vibrate,\n",
       "  The pump shaft vibration appears to be causing the motor to vibrate as well.,\n",
       "  False],\n",
       " [pump bearings,\n",
       "  Rupture,\n",
       "  caused,\n",
       "  pump shaft,\n",
       "  degradation,\n",
       "  Rupture of pump bearings caused pump shaft degradation.,\n",
       "  False],\n",
       " [pump bearings,\n",
       "  Rupture,\n",
       "  caused,\n",
       "  pump shaft,\n",
       "  degradation,\n",
       "  Rupture of pump bearings caused pump shaft degradation and consequent flow reduction.,\n",
       "  False],\n",
       " [power supply,\n",
       "  failure,\n",
       "  due to,\n",
       "  Pump,\n",
       "  test,\n",
       "  Pump test failed due to power supply failure.,\n",
       "  False],\n",
       " [Pump,\n",
       "  inspection,\n",
       "  revealed,\n",
       "  impeller,\n",
       "  degradation,\n",
       "  Pump inspection revealed excessive impeller degradation.,\n",
       "  False],\n",
       " [Pump,\n",
       "  inspection,\n",
       "  revealed,\n",
       "  impeller,\n",
       "  degradation,\n",
       "  Pump inspection revealed excessive impeller degradation likely due to cavitation.,\n",
       "  True],\n",
       " [pump shaft,\n",
       "  Several cracks,\n",
       "  caused,\n",
       "  pump,\n",
       "  failure,\n",
       "  Several cracks on pump shaft were observed; they could have caused pump failure within few days.,\n",
       "  True],\n",
       " [pump shaft,\n",
       "  vibration,\n",
       "  causing,\n",
       "  motor,\n",
       "  vibrate,\n",
       "  The pump shaft vibration appears to be causing the motor to vibrate as well.,\n",
       "  False],\n",
       " [pump bearings,\n",
       "  Rupture,\n",
       "  caused,\n",
       "  pump shaft,\n",
       "  degradation,\n",
       "  Rupture of pump bearings caused pump shaft degradation.,\n",
       "  False],\n",
       " [pump bearings,\n",
       "  Rupture,\n",
       "  caused,\n",
       "  pump shaft,\n",
       "  degradation,\n",
       "  Rupture of pump bearings caused pump shaft degradation and consequent flow reduction.,\n",
       "  False],\n",
       " [power supply,\n",
       "  failure,\n",
       "  due to,\n",
       "  Pump,\n",
       "  test,\n",
       "  Pump test failed due to power supply failure.,\n",
       "  False],\n",
       " [Pump,\n",
       "  inspection,\n",
       "  revealed,\n",
       "  impeller,\n",
       "  degradation,\n",
       "  Pump inspection revealed excessive impeller degradation.,\n",
       "  False],\n",
       " [Pump,\n",
       "  inspection,\n",
       "  revealed,\n",
       "  impeller,\n",
       "  degradation,\n",
       "  Pump inspection revealed excessive impeller degradation likely due to cavitation.,\n",
       "  True],\n",
       " [pump shaft,\n",
       "  Several cracks,\n",
       "  caused,\n",
       "  pump,\n",
       "  failure,\n",
       "  Several cracks on pump shaft were observed; they could have caused pump failure within few days.,\n",
       "  True],\n",
       " [pump shaft,\n",
       "  vibration,\n",
       "  causing,\n",
       "  motor,\n",
       "  vibrate,\n",
       "  The pump shaft vibration appears to be causing the motor to vibrate as well.,\n",
       "  False]]"
      ]
     },
     "execution_count": 23,
     "metadata": {},
     "output_type": "execute_result"
    }
   ],
   "source": [
    "matcher._extractedCausals"
   ]
  },
  {
   "cell_type": "code",
   "execution_count": null,
   "id": "6e11e101-8a3e-4446-aabb-c36421cb2f38",
   "metadata": {},
   "outputs": [],
   "source": []
  }
 ],
 "metadata": {
  "kernelspec": {
   "display_name": "Python 3 (ipykernel)",
   "language": "python",
   "name": "python3"
  },
  "language_info": {
   "codemirror_mode": {
    "name": "ipython",
    "version": 3
   },
   "file_extension": ".py",
   "mimetype": "text/x-python",
   "name": "python",
   "nbconvert_exporter": "python",
   "pygments_lexer": "ipython3",
   "version": "3.9.10"
  }
 },
 "nbformat": 4,
 "nbformat_minor": 5
}
