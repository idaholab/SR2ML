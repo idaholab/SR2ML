{
 "cells": [
  {
   "cell_type": "code",
   "execution_count": 1,
   "id": "a807aa3e",
   "metadata": {},
   "outputs": [
    {
     "name": "stderr",
     "output_type": "stream",
     "text": [
      "Warming up PyWSD (takes ~10 secs)... took 4.767230987548828 secs.\n"
     ]
    }
   ],
   "source": [
    "import os, sys, time\n",
    "sys.path.append(os.path.dirname(os.getcwd()))\n",
    "from Preprocessing import Preprocessing\n",
    "from Preprocessing import SpellChecker\n",
    "import numpy as np\n",
    "\n",
    "import pandas as pd"
   ]
  },
  {
   "cell_type": "code",
   "execution_count": 2,
   "id": "4ae4ef84",
   "metadata": {},
   "outputs": [],
   "source": [
    "#text = 'Perf ann sens calib of cyl'\n",
    "#text = 'High conc of hydrogen obs'\n",
    "#text = 'High conc of hydrogen obs every wk'\n",
    "#text = 'High conct of hydrogen obs every wk'\n",
    "text = 'Perfr calib of chan'\n",
    "# pre-processing\n",
    "text = text.lower()"
   ]
  },
  {
   "cell_type": "code",
   "execution_count": 3,
   "id": "2c919bef",
   "metadata": {},
   "outputs": [
    {
     "name": "stdout",
     "output_type": "stream",
     "text": [
      "Empty DataFrame\n",
      "Columns: [Abbreviation, Full]\n",
      "Index: []\n"
     ]
    }
   ],
   "source": [
    "# import abbreviation list\n",
    "abbrList = pd.read_excel('../data/abbreviations.xlsx') \n",
    "# Make sure the library dopes not contain duplicate rows\n",
    "print(abbrList[abbrList.duplicated()])"
   ]
  },
  {
   "cell_type": "raw",
   "id": "cfb13856",
   "metadata": {},
   "source": [
    "preprocessorList = ['hyphenated_words',\n",
    "                    'whitespace',\n",
    "                    'numerize']\n",
    "preprocessorOptions = {}\n",
    "preprocess = Preprocessing(preprocessorList, preprocessorOptions)\n",
    "post = preprocess(text)\n",
    "post"
   ]
  },
  {
   "cell_type": "code",
   "execution_count": 7,
   "id": "1832fdf6",
   "metadata": {},
   "outputs": [
    {
     "data": {
      "text/plain": [
       "'perform calibration of channel'"
      ]
     },
     "execution_count": 7,
     "metadata": {},
     "output_type": "execute_result"
    }
   ],
   "source": [
    "checker = SpellChecker(text, checker='autocorrect')\n",
    "cleanedText = checker.handleAbbreviations(abbrList, type='mixed')\n",
    "cleanedText"
   ]
  },
  {
   "cell_type": "code",
   "execution_count": null,
   "id": "e4302bc3",
   "metadata": {},
   "outputs": [],
   "source": []
  }
 ],
 "metadata": {
  "kernelspec": {
   "display_name": "Python 3 (ipykernel)",
   "language": "python",
   "name": "python3"
  },
  "language_info": {
   "codemirror_mode": {
    "name": "ipython",
    "version": 3
   },
   "file_extension": ".py",
   "mimetype": "text/x-python",
   "name": "python",
   "nbconvert_exporter": "python",
   "pygments_lexer": "ipython3",
   "version": "3.8.16"
  }
 },
 "nbformat": 4,
 "nbformat_minor": 5
}
