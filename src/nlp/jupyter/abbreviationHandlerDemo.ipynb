{
 "cells": [
  {
   "cell_type": "code",
   "execution_count": 1,
   "id": "a807aa3e",
   "metadata": {},
   "outputs": [
    {
     "name": "stderr",
     "output_type": "stream",
     "text": [
      "Warming up PyWSD (takes ~10 secs)... took 3.9225990772247314 secs.\n"
     ]
    }
   ],
   "source": [
    "import os, sys, time\n",
    "sys.path.append(os.path.dirname(os.getcwd()))\n",
    "from Preprocessing import Preprocessing\n",
    "from Preprocessing import SpellChecker\n",
    "import numpy as np\n",
    "\n",
    "import pandas as pd"
   ]
  },
  {
   "cell_type": "code",
   "execution_count": 2,
   "id": "4ae4ef84",
   "metadata": {},
   "outputs": [],
   "source": [
    "#text = 'Perf ann sens calib of cyl'\n",
    "#text = 'High conc of hydrogen obs'\n",
    "#text = 'High conc of hydrogen obs every wk'\n",
    "#text = 'High conct of hydrogen obs every wk'\n",
    "#text = 'Perfr chan calib of chan'\n",
    "#text = \"esf pump room and fuel bldg test\"\n",
    "#text = 'cal press xmtr sit elev'\n",
    "text = 'perform thermography survey of pzr htr terminations' \n",
    "#text = 'plant mods comp iso mode prep (diwo s closed / dcp signoffs / inservice verificiations / restoration) (see rnb)'\n",
    "# pre-processing\n",
    "text = text.lower()"
   ]
  },
  {
   "cell_type": "code",
   "execution_count": 3,
   "id": "e9010b52-4c0b-40f5-9c86-a517e92c0726",
   "metadata": {},
   "outputs": [],
   "source": [
    "text = \"\"\"A leak was noticed from the pump.\n",
    "            RCP pump 1A pressure gauge was found not operating.\n",
    "            RCP pump 1A pressure gauge was found inoperative.\n",
    "            RCP pump 1A pressure gauge was not functional.\n",
    "            Rupture of pump bearings caused shaft degradation.\n",
    "            Rupture of pump bearings caused shaft degradation and consequent flow reduction.\n",
    "            Pump power supply has been found burnout.\n",
    "            Pump test failed due to power supply failure.\n",
    "            Pump inspection revealed excessive impeller degradation.\n",
    "            Pump inspection revealed excessive impeller degradation likely due to cavitation.\n",
    "            Oil puddle was found in proximity of RCP pump 1A.\n",
    "            Anomalous vibrations were observed for RCP pump 1A.\n",
    "            Several cracks on pump shaft were observed; they could have caused pump failure within few days.\n",
    "\"\"\"\n",
    "text = text.lower()"
   ]
  },
  {
   "cell_type": "code",
   "execution_count": 4,
   "id": "2c919bef",
   "metadata": {},
   "outputs": [
    {
     "name": "stdout",
     "output_type": "stream",
     "text": [
      "    Abbreviation         Full\n",
      "553        verif       verify\n",
      "570       cntrld   controlled\n",
      "575         cond    condenser\n",
      "598          pwr        power\n",
      "599         supp  suppression\n",
      "602        fdwtr   feed water\n",
      "605           tk         tank\n"
     ]
    }
   ],
   "source": [
    "# import abbreviation list\n",
    "abbrList = pd.read_excel('../data/abbreviations.xlsx') \n",
    "# Make sure the library dopes not contain duplicate rows\n",
    "print(abbrList[abbrList.duplicated()])"
   ]
  },
  {
   "cell_type": "raw",
   "id": "cfb13856",
   "metadata": {},
   "source": [
    "preprocessorList = ['hyphenated_words',\n",
    "                    'whitespace',\n",
    "                    'numerize']\n",
    "preprocessorOptions = {}\n",
    "preprocess = Preprocessing(preprocessorList, preprocessorOptions)\n",
    "post = preprocess(text)\n",
    "post"
   ]
  },
  {
   "cell_type": "code",
   "execution_count": 5,
   "id": "1832fdf6",
   "metadata": {},
   "outputs": [],
   "source": [
    "checker = SpellChecker(checker='mixed')"
   ]
  },
  {
   "cell_type": "code",
   "execution_count": 6,
   "id": "341233bc-41b1-4336-8130-7486766d674d",
   "metadata": {},
   "outputs": [
    {
     "data": {
      "text/plain": [
       "'a leak was noticed from the pump.\\n            rcp pump 1a pressure gauge was found not operating.\\n            rcp pump 1a pressure gauge was found inoperative.\\n            rcp pump 1a pressure gauge was not functional.\\n            rupture of pump bearings caused shaft degradation.\\n            rupture of pump bearings caused shaft degradation and consequent flow reduction.\\n            pump power supply has been found burnout.\\n            pump test failed due to power supply failure.\\n            pump inspection revealed excessive impeller degradation.\\n            pump inspection revealed excessive impeller degradation likely due to cavitation.\\n            oil puddle was found in proximity of rcp pump 1a.\\n            anomalous vibrations were observed for rcp pump 1a.\\n            several cracks on pump shaft were observed; they could have caused pump failure within few days.\\n'"
      ]
     },
     "execution_count": 6,
     "metadata": {},
     "output_type": "execute_result"
    }
   ],
   "source": [
    "cleanedText = checker.handleAbbreviations(abbrList, text, type='mixed')\n",
    "cleanedText"
   ]
  },
  {
   "cell_type": "code",
   "execution_count": 7,
   "id": "0c957d4c",
   "metadata": {},
   "outputs": [
    {
     "data": {
      "text/plain": [
       "['rcp']"
      ]
     },
     "execution_count": 7,
     "metadata": {},
     "output_type": "execute_result"
    }
   ],
   "source": [
    "from Preprocessing import SpellChecker\n",
    "checker = SpellChecker(checker='autocorrect')\n",
    "checker.getMisspelledWords(cleanedText)"
   ]
  },
  {
   "cell_type": "code",
   "execution_count": 8,
   "id": "060d6a67",
   "metadata": {},
   "outputs": [
    {
     "name": "stdout",
     "output_type": "stream",
     "text": [
      "a leak was noticed from the pump.\n",
      "            cp pump 1a pressure gauge was found not operating.\n",
      "            cp pump 1a pressure gauge was found inoperative.\n",
      "            cp pump 1a pressure gauge was not functional.\n",
      "            rupture of pump bearings caused shaft degradation.\n",
      "            rupture of pump bearings caused shaft degradation and consequent flow reduction.\n",
      "            pump power supply has been found burnout.\n",
      "            pump test failed due to power supply failure.\n",
      "            pump inspection revealed excessive impeller degradation.\n",
      "            pump inspection revealed excessive impeller degradation likely due to cavitation.\n",
      "            oil puddle was found in proximity of cp pump 1a.\n",
      "            anomalous vibrations were observed for cp pump 1a.\n",
      "            several cracks on pump shaft were observed; they could have caused pump failure within few days.\n",
      "\n"
     ]
    }
   ],
   "source": [
    "cleanedText = checker.correct(cleanedText)\n",
    "print(cleanedText)"
   ]
  },
  {
   "cell_type": "code",
   "execution_count": 9,
   "id": "7c6571a2-5927-4e1b-8d65-5fc7e70290f8",
   "metadata": {},
   "outputs": [],
   "source": [
    "from Preprocessing import AbbrExpander\n",
    "import os\n",
    "import time\n",
    "\n",
    "filename = os.path.join(os.getcwd(), '..', 'data', 'abbreviations.xlsx')\n",
    "AbbrExp = AbbrExpander(filename)"
   ]
  },
  {
   "cell_type": "code",
   "execution_count": 10,
   "id": "bcef7859-b292-49b2-bf95-c58eeb7d1120",
   "metadata": {},
   "outputs": [
    {
     "name": "stdout",
     "output_type": "stream",
     "text": [
      "Time eslapse: 4.513034820556641\n"
     ]
    }
   ],
   "source": [
    "st = time.time()\n",
    "cleanedText = AbbrExp.abbrProcess(text)\n",
    "et = time.time()\n",
    "print('Time eslapse:', et-st)"
   ]
  },
  {
   "cell_type": "code",
   "execution_count": 11,
   "id": "8d31d850-5328-43f5-9eb8-2c30a6548a91",
   "metadata": {},
   "outputs": [
    {
     "name": "stdout",
     "output_type": "stream",
     "text": [
      "Time eslapse: 5.11410927772522\n"
     ]
    }
   ],
   "source": [
    "textList = [t.strip() for t in text.split('\\n')]\n",
    "newList = []\n",
    "st = time.time()\n",
    "for t in textList:\n",
    "    cleanedT = AbbrExp.abbrProcess(t)\n",
    "    newList.append(cleanedT)\n",
    "et = time.time()\n",
    "print('Time eslapse:', et-st)"
   ]
  },
  {
   "cell_type": "code",
   "execution_count": 12,
   "id": "852b9f03-178c-4664-aabd-9f58af0a7f64",
   "metadata": {},
   "outputs": [
    {
     "name": "stdout",
     "output_type": "stream",
     "text": [
      "1 leak was noticed from the pump. rcp pump 1a pressure gauge was found not operating. rcp pump 1a pressure gauge was found inoperative. rcp pump 1a pressure gauge was not functional. rupture of pump bearings caused shaft degradation. rupture of pump bearings caused shaft degradation and consequent flow reduction. pump power supply has been found burnout. pump test failed due to power supply failure. pump inspection revealed excessive impeller degradation. pump inspection revealed excessive impeller degradation likely due to cavitation. oil puddle was found in proximity of rcp pump 1a. anomalous vibrations were observed for rcp pump 1a. several cracks on pump shaft were observed; they could have caused pump failure within few days. \n",
      "Time eslapse: 3.4005401134490967\n"
     ]
    }
   ],
   "source": [
    "st = time.time()\n",
    "cleanedText2 = AbbrExp.abbrProcess(text, splitToList='True')\n",
    "print(cleanedText2)\n",
    "et = time.time()\n",
    "print('Time eslapse:', et-st)"
   ]
  }
 ],
 "metadata": {
  "kernelspec": {
   "display_name": "Python 3 (ipykernel)",
   "language": "python",
   "name": "python3"
  },
  "language_info": {
   "codemirror_mode": {
    "name": "ipython",
    "version": 3
   },
   "file_extension": ".py",
   "mimetype": "text/x-python",
   "name": "python",
   "nbconvert_exporter": "python",
   "pygments_lexer": "ipython3",
   "version": "3.9.10"
  }
 },
 "nbformat": 4,
 "nbformat_minor": 5
}
