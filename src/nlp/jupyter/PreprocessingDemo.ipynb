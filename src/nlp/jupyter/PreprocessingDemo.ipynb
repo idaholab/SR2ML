{
 "cells": [
  {
   "cell_type": "markdown",
   "id": "78445a9e",
   "metadata": {},
   "source": [
    "# Preprocessing Demo\n",
    "This notebook shows how to use the Postprocessing class for cleaning, numerizing, and spell checking raw data."
   ]
  },
  {
   "cell_type": "code",
   "execution_count": 1,
   "id": "19a851df",
   "metadata": {},
   "outputs": [],
   "source": [
    "import os, sys, time\n",
    "sys.path.append(os.path.dirname(os.getcwd()))\n",
    "from Preprocessing import Preprocessing\n",
    "from Preprocessing import SpellChecker"
   ]
  },
  {
   "cell_type": "markdown",
   "id": "264aa86c",
   "metadata": {},
   "source": [
    "## Text to Clean and Numerize"
   ]
  },
  {
   "cell_type": "code",
   "execution_count": 2,
   "id": "4f2ae2f8",
   "metadata": {},
   "outputs": [],
   "source": [
    "text = (\"bullet_points:\\n\"\n",
    "        \"\\n‣ item1\\n⁃ item2\\n⁌ item3\\n⁍ item4\\n∙ item5\\n▪ item6\\n● item7\\n◦ item8\\n\"\n",
    "        \"=======================\\n\"\n",
    "        \"hyphenated_words:\\n\"\n",
    "        \"I see you shiver with antici- pation.\\n\"\n",
    "        \"I see you shiver with antici-   \\npation.\\n\"\n",
    "        \"I see you shiver with antici- PATION.\\n\"\n",
    "        \"I see you shiver with antici- 1pation.\\n\"\n",
    "        \"I see you shiver with antici pation.\\n\"\n",
    "        \"I see you shiver with antici-pation.\\n\"\n",
    "        \"My phone number is 555- 1234.\\n\"\n",
    "        \"I got an A- on the test.\\n\"\n",
    "        \"=======================\\n\"\n",
    "        \"quotation_marks:\\n\"\n",
    "        \"These are ´funny single quotes´.\\n\"\n",
    "        \"These are ‘fancy single quotes’.\\n\"\n",
    "        \"These are “fancy double quotes”.\\n\"\n",
    "        \"=======================\\n\"\n",
    "        \"repeating_chars:\\n\"\n",
    "        \"**Hello**, world!!! I wonder....... How are *you* doing?!?! lololol\\n\"\n",
    "        \"=======================\\n\"\n",
    "        \"unicode:\\n\"\n",
    "        \"Well… That's a long story.\\n\"\n",
    "        \"=======================\\n\"\n",
    "        \"whitespace:\\n\"\n",
    "        \"Hello,  world!\\n\"\n",
    "        \"Hello,     world!\\n\"\n",
    "        \"Hello,\\tworld!\\n\"\n",
    "        \"Hello,\\t\\t  world!\\n\"\n",
    "        \"Hello,\\n\\nworld!\\n\"\n",
    "        \"Hello,\\r\\nworld!\\n\"\n",
    "        \"Hello\\uFEFF, world!\\n\"\n",
    "        \"Hello\\u200B\\u200B, world!\\n\"\n",
    "        \"Hello\\uFEFF,\\n\\n\\nworld   !  \\n\"\n",
    "        \"=======================\\n\"\n",
    "        \"accents:\\n\"\n",
    "        \"El niño se asustó del pingüino -- qué miedo!\\n\"\n",
    "        \"Le garçon est très excité pour la forêt.\\n\"\n",
    "        \"=======================\\n\"\n",
    "        \"brackets:\\n\"\n",
    "        \"Hello, {name}!\\n\"\n",
    "        \"Hello, world (DeWilde et al., 2021, p. 42)!\\n\"\n",
    "        \"Hello, world (1)!\\n\"\n",
    "        \"Hello, world [1]!\\n\"\n",
    "        \"Hello, world (and whomever it may concern [not that it's any of my business])!\\n\"\n",
    "        \"Hello, world (and whomever it may concern (not that it's any of my business))!\\n\"\n",
    "        \"Hello, world (and whomever it may concern [not that it's any of my business])!\\n\"\n",
    "        \"Hello, world [1]!\\n\"\n",
    "        \"Hello, world [1]!\\n\"\n",
    "        \"=======================\\n\"\n",
    "        \"html_tags:\\n\"\n",
    "        \"Hello, <i>world!</i>\\n\"\n",
    "        \"<title>Hello, world!</title>\\n\"\n",
    "        '<title class=\"foo\">Hello, world!</title>\\n'\n",
    "        \"<html><head><title>Hello, <i>world!</i></title></head></html>\\n\"\n",
    "            \"<html>\\n\"\n",
    "            \"  <head>\\n\"\n",
    "            '    <title class=\"foo\">Hello, <i>world!</i></title>\\n'\n",
    "            \"  </head>\\n\"\n",
    "            \"  <!--this is a comment-->\\n\"\n",
    "            \"  <body>\\n\"\n",
    "            \"    <p>How's it going?</p>\\n\"\n",
    "            \"  </body>\\n\"\n",
    "            \"</html>\\n\"\n",
    "        \"=======================\\n\"\n",
    "        \"punctuation:\\n\"\n",
    "        \"I can't. No, I won't! It's a matter of \\\"principle\\\"; of -- what's the word? -- conscience.\\n\"\n",
    "        \"=======================\\n\"\n",
    "        \"currency_symbols:\\n\"\n",
    "        \"$1.00 equals 100¢.\\n\"\n",
    "        \"How much is ¥100 in £?\\n\"\n",
    "        \"My password is 123$abc฿.\\n\"\n",
    "        \"=======================\\n\"\n",
    "        \"emails:\\n\"\n",
    "        \"Reach out at username@example.com.\\n\"\n",
    "        \"Click here: mailto:username@example.com.\\n\"\n",
    "        \"=======================\\n\"\n",
    "        \"emoji:\\n\"\n",
    "        \"ugh, it's raining *again* ☔\\n\"\n",
    "        \"✌ tests are passing ✌\\n\"\n",
    "        \"=======================\\n\"\n",
    "        \"hashtags:\\n\"\n",
    "        \"like omg it's #ThrowbackThursday\\n\"\n",
    "        \"#TextacyIn4Words: \\\"but it's honest work\\\"\\n\"\n",
    "        \"wth twitter #ican'teven #why-even-try\\n\"\n",
    "        \"www.foo.com#fragment is not a hashtag\\n\"\n",
    "        \"=======================\\n\"\n",
    "        \"numbers:\\n\"\n",
    "        \"I owe $1,000.99 to 123 people for 2 +1 reasons.\\n\"\n",
    "        \"=======================\\n\"\n",
    "        \"phone_numbers:\\n\"\n",
    "        \"I can be reached at 555-123-4567 through next Friday.\\n\"\n",
    "        \"=======================\\n\"\n",
    "        \"urls:\\n\"\n",
    "        \"I learned everything I know from www.stackoverflow.com and http://wikipedia.org/ and Mom.\\n\"\n",
    "        \"=======================\\n\"\n",
    "        \"user_handles:\\n\"\n",
    "        \"@Real_Burton_DeWilde: definitely not a bot\\n\"\n",
    "        \"wth twitter @b.j.dewilde\\n\"\n",
    "        \"foo@bar.com is not a user handle\\n\"\n",
    "        \"=======================\\n\"\n",
    "        \"numerize:\\n\"\n",
    "        \"forty-two\\n\"\n",
    "        \"four hundred and sixty two\\n\"\n",
    "        \"one fifty\\n\"\n",
    "        \"twelve hundred\\n\"\n",
    "        \"twenty one thousand four hundred and seventy three\\n\"\n",
    "        \"one billion and one\\n\"\n",
    "        \"nine and three quarters\\n\"\n",
    ")"
   ]
  },
  {
   "cell_type": "markdown",
   "id": "bca22f25",
   "metadata": {},
   "source": [
    "## Pipeline Creation\n",
    "Preprocessing requires a list of all desired preprocessors and a dictionary containing any additional options from textacy. The main keys of the options dictionary correspond to the name of the preprocessor. See the Text Preprocessing section from https://textacy.readthedocs.io/en/latest/ for available options.\n",
    "\n",
    "This example pipeline includes all of the textacy preprocessors and numerize. Unexpected behavior may happen when using all of the textacy preprocessors, depending on the order they are applied. "
   ]
  },
  {
   "cell_type": "code",
   "execution_count": 3,
   "id": "de09a82b",
   "metadata": {},
   "outputs": [],
   "source": [
    "preprocessorList = ['bullet_points', \n",
    "                    'hyphenated_words', \n",
    "                    'quotation_marks', \n",
    "                    'repeating_chars', \n",
    "                    'unicode', \n",
    "                    'whitespace',\n",
    "                    'accents', \n",
    "                    'brackets', \n",
    "                    'html_tags', \n",
    "                    'punctuation', \n",
    "                    'currency_symbols', \n",
    "                    'emails', \n",
    "                    'emojis', \n",
    "                    'hashtags', \n",
    "                    'numbers', \n",
    "                    'phone_numbers', \n",
    "                    'urls', \n",
    "                    'user_handles', \n",
    "                    'numerize']\n",
    "preprocessorOptions = {'repeating_chars': {'chars': 'ol', 'maxn': 2}, \n",
    "                       'unicode': {'form': 'NFKC'}, \n",
    "                       'accents': {'fast': False}, \n",
    "                       'brackets': {'only': 'square'},\n",
    "                       'punctuation': {'only': '\\''}}"
   ]
  },
  {
   "cell_type": "code",
   "execution_count": 4,
   "id": "f94d52ab",
   "metadata": {},
   "outputs": [
    {
     "name": "stdout",
     "output_type": "stream",
     "text": [
      "bullet_points:\n",
      "  item1\n",
      "  item2\n",
      "  item3\n",
      "  item4\n",
      "  item5\n",
      "  item6\n",
      "  item7\n",
      "  item8\n",
      "=======================\n",
      "hyphenated_words:\n",
      "I see you shiver with anticipation.\n",
      "I see you shiver with anticipation.\n",
      "I see you shiver with anticiPATION.\n",
      "I see you shiver with antici  1pation.\n",
      "I see you shiver with antici pation.\n",
      "I see you shiver with antici pation.\n",
      "My phone number is _NUMBER_  _NUMBER_.\n",
      "I got an 1  on the test.\n",
      "=======================\n",
      "quotation_marks:\n",
      "These are funny single quotes .\n",
      "These are fancy single quotes .\n",
      "These are \"fancy double quotes\".\n",
      "=======================\n",
      "repeating_chars:\n",
      "**Hello**, world!!! I wonder....... How are *you* doing?!?! lolol\n",
      "=======================\n",
      "unicode:\n",
      "Well... That s a long story.\n",
      "=======================\n",
      "whitespace:\n",
      "Hello, world!\n",
      "Hello, world!\n",
      "Hello, world!\n",
      "Hello, world!\n",
      "Hello,\n",
      "world!\n",
      "Hello,\n",
      "world!\n",
      "Hello, world!\n",
      "Hello, world!\n",
      "Hello,\n",
      "world ! \n",
      "=======================\n",
      "accents:\n",
      "El nino se asusto del pinguino -  que miedo!\n",
      "Le garcon est tres excite pour la foret.\n",
      "=======================\n",
      "brackets:\n",
      "Hello, {name}!\n",
      "Hello, world (DeWilde et al., _NUMBER_, p. _NUMBER_)!\n",
      "Hello, world (_NUMBER_)!\n",
      "Hello, world !\n",
      "Hello, world (and whomever it may concern )!\n",
      "Hello, world (and whomever it may concern (not that it s any of my business))!\n",
      "Hello, world (and whomever it may concern )!\n",
      "Hello, world !\n",
      "Hello, world !\n",
      "=======================\n",
      "html_tags:\n",
      "Hello, world!\n",
      "Hello, world!\n",
      "Hello, world!\n",
      "Hello, world!\n",
      "\n",
      " \n",
      " Hello, world!\n",
      " \n",
      " \n",
      " \n",
      " How s it going?\n",
      " \n",
      "\n",
      "=======================\n",
      "punctuation:\n",
      "I can t. No, I won t! It s a matter of \"principle\"; of -  what s the word? -  conscience.\n",
      "=======================\n",
      "currency_symbols:\n",
      "_CUR_1.00 equals 100_CUR_.\n",
      "How much is _CUR_100 in _CUR_?\n",
      "My password is 123_CUR_abc_CUR_.\n",
      "=======================\n",
      "emails:\n",
      "Reach out at _EMAIL_.\n",
      "Click here: _EMAIL_.\n",
      "=======================\n",
      "emoji:\n",
      "ugh, it s raining *again* _EMOJI_\n",
      "_EMOJI_ tests are passing _EMOJI_\n",
      "=======================\n",
      "hashtags:\n",
      "like omg it s _TAG_\n",
      "_TAG_: \"but it s honest work\"\n",
      "wth twitter _TAG_ teven _TAG_ even try\n",
      "_URL_#fragment is not a hashtag\n",
      "=======================\n",
      "numbers:\n",
      "I owe _CUR_1,000.99 to _NUMBER_ people for _NUMBER_ _NUMBER_ reasons.\n",
      "=======================\n",
      "phone_numbers:\n",
      "I can be reached at _NUMBER_ _NUMBER_ _NUMBER_ through next Friday.\n",
      "=======================\n",
      "urls:\n",
      "I learned everything I know from _URL_ and _URL_ and Mom.\n",
      "=======================\n",
      "user_handles:\n",
      "_USER_: definitely not a bot\n",
      "wth twitter _USER_.j.dewilde\n",
      "_EMAIL_ is not a user handle\n",
      "=======================\n",
      "numerize:\n",
      "42\n",
      "462\n",
      "150\n",
      "1200\n",
      "21473\n",
      "1000000001\n",
      "9.75\n"
     ]
    }
   ],
   "source": [
    "preprocess = Preprocessing(preprocessorList, preprocessorOptions)\n",
    "post = preprocess(text)\n",
    "print(post)"
   ]
  },
  {
   "cell_type": "markdown",
   "id": "1024de4c",
   "metadata": {},
   "source": [
    "# Coherent Text Example with autocorrect and ContextualSpellCheck Spelling Correction\n",
    "The text was taken from data/raw_text.txt and modified to have spelling mistakes and other items to clean up.\n",
    "\n",
    "Note that numerizer automatically changes the first \"A\" to \"1\" and cannot be avoided."
   ]
  },
  {
   "cell_type": "code",
   "execution_count": 5,
   "id": "293950d8",
   "metadata": {},
   "outputs": [],
   "source": [
    "text = (\"A laek was noticed from the RCP pump 1A.\\n\"\n",
    "        \"A light was unplugged.\\n\"\n",
    "        \"RCP pump 1A presure gauge was found not operating.\\n\"\n",
    "        \"RCP pump 1A pressure gauge was found inoperative.\\n\"\n",
    "        \"RCP pump 1A had signs of past leakage.\\n\"\n",
    "        \"The Pump is not experiencing enough flow druing test.\\n\"\n",
    "        \"Slight Vibrations is noticed - likely from pump shaft deflection.\\n\"\n",
    "        \"Pump flow meter was not responding.\\n\"\n",
    "        \"Rupture of pump bearings caused pump shaft degradation.\\n\"\n",
    "        \"Rupture of pump bearings caused pump shaft degradation and consequent flow reduction.\\n\"\n",
    "        \"Power supply has been found burnout.\\n\"\n",
    "        \"Pump test failed due to power supply failure.\\n\"\n",
    "        \"Pump inspection revieled excessive impeller degradation.\\n\"\n",
    "        \"Pump inspection revealed exessive impeller degradation likely due to cavitation.\\n\"\n",
    "        \"Oil puddle was found in proximity of RCP pump 1A.\\n\"\n",
    "        \"Anomalous vibrations were observed for RCP pump 1A.\\n\"\n",
    "        \"Three cracks on pump shaft were observed; they could have caused pump failure within four days.\\n\"\n",
    "        \"RCP pump 1A was cavitating and vibrating to some degree during test.\\n\"\n",
    "        \"This is most likely due to low flow conditions rather than mechanical issues.\\n\"\n",
    "        \"Cavitation was noticed but did not seem severe.\\n\"\n",
    "        \"The pump shaft vibration appears to be causing the motor to vibrate as well.\\n\"\n",
    "        \"Pump had noise of cavitation which became faint after OPS bled off the air. Low flow conditions most likely causing cavit-\\n\"\n",
    "        \"ation.\\n\"\n",
    "        \"The pump shaft deflection is causing the safety cage to rattle.\\n\"\n",
    "        \"The Pump is not experiencing enough flow for the pumps to keep the check valves open during test.\\n\"\n",
    "        \"Pump shaft made noise.\\n\"\n",
    "        \"Vibration seems like it is coming from the pump shaft.\\n\"\n",
    "        \"Visible pump shaft deflection in operation.\\n\"\n",
    "        \"Pump bearings appear in acceptable condition.\\n\"\n",
    "        \"Pump made noises - not enough to affect performance.\\n\"\n",
    "        \"Pump shaft has a slight deflection.\\n\"\n",
    ")"
   ]
  },
  {
   "cell_type": "markdown",
   "id": "e6cc953f",
   "metadata": {},
   "source": [
    "## First Do Text Preprocessing"
   ]
  },
  {
   "cell_type": "code",
   "execution_count": 6,
   "id": "71f57b0b",
   "metadata": {},
   "outputs": [],
   "source": [
    "preprocessorList = ['hyphenated_words',\n",
    "                    'whitespace',\n",
    "                    'numerize']\n",
    "preprocessorOptions = {}\n",
    "preprocess = Preprocessing(preprocessorList, preprocessorOptions)\n",
    "post = preprocess(text)"
   ]
  },
  {
   "cell_type": "markdown",
   "id": "60c2b8fe",
   "metadata": {},
   "source": [
    "## autocorrect: setup"
   ]
  },
  {
   "cell_type": "code",
   "execution_count": 7,
   "id": "41e5d0a1",
   "metadata": {},
   "outputs": [],
   "source": [
    "checker = SpellChecker(post, checker='autocorrect')"
   ]
  },
  {
   "cell_type": "markdown",
   "id": "d10ffd06",
   "metadata": {},
   "source": [
    "## autocorrect: find acronyms or unexpected misspelled words"
   ]
  },
  {
   "cell_type": "code",
   "execution_count": 8,
   "id": "e3751532",
   "metadata": {},
   "outputs": [
    {
     "data": {
      "text/plain": [
       "['druing', 'RCP', 'exessive', 'OPS', 'revieled', 'presure', 'laek']"
      ]
     },
     "execution_count": 8,
     "metadata": {},
     "output_type": "execute_result"
    }
   ],
   "source": [
    "checker.getMisspelledWords()"
   ]
  },
  {
   "cell_type": "markdown",
   "id": "6ecf10a5",
   "metadata": {},
   "source": [
    "## autocorrect: add any additional words to dictionary"
   ]
  },
  {
   "cell_type": "code",
   "execution_count": 9,
   "id": "30b6aa45",
   "metadata": {},
   "outputs": [],
   "source": [
    "words = ['OPS', 'RCP']\n",
    "checker.addWordsToDictionary(words)"
   ]
  },
  {
   "cell_type": "markdown",
   "id": "25739b5e",
   "metadata": {},
   "source": [
    "## autocorrect: get automatically corrected text"
   ]
  },
  {
   "cell_type": "code",
   "execution_count": 10,
   "id": "090c6b2a",
   "metadata": {},
   "outputs": [
    {
     "name": "stdout",
     "output_type": "stream",
     "text": [
      "1 lack was noticed from the RCP pump 1A.\n",
      "A light was unplugged.\n",
      "RCP pump 1A pressure gauge was found not operating.\n",
      "RCP pump 1A pressure gauge was found inoperative.\n",
      "RCP pump 1A had signs of past leakage.\n",
      "The Pump is not experiencing enough flow during test.\n",
      "Slight Vibrations is noticed - likely from pump shaft deflection.\n",
      "Pump flow meter was not responding.\n",
      "Rupture of pump bearings caused pump shaft degradation.\n",
      "Rupture of pump bearings caused pump shaft degradation and consequent flow reduction.\n",
      "Power supply has been found burnout.\n",
      "Pump test failed due to power supply failure.\n",
      "Pump inspection reviewed excessive impeller degradation.\n",
      "Pump inspection revealed excessive impeller degradation likely due to cavitation.\n",
      "Oil puddle was found in proximity of RCP pump 1A.\n",
      "Anomalous vibrations were observed for RCP pump 1A.\n",
      "3 cracks on pump shaft were observed; they could have caused pump failure within 4 days.\n",
      "RCP pump 1A was cavitating and vibrating to some degree during test.\n",
      "This is most likely due to low flow conditions rather than mechanical issues.\n",
      "Cavitation was noticed but did not seem severe.\n",
      "The pump shaft vibration appears to be causing the motor to vibrate as well.\n",
      "Pump had noise of cavitation which became faint after OPS bled off the air. Low flow conditions most likely causing cavitation.\n",
      "The pump shaft deflection is causing the safety cage to rattle.\n",
      "The Pump is not experiencing enough flow for the pumps to keep the check valves open during test.\n",
      "Pump shaft made noise.\n",
      "Vibration seems like it is coming from the pump shaft.\n",
      "Visible pump shaft deflection in operation.\n",
      "Pump bearings appear in acceptable condition.\n",
      "Pump made noises - not enough to affect performance.\n",
      "Pump shaft has a slight deflection.\n"
     ]
    }
   ],
   "source": [
    "corrected = checker.correct()\n",
    "print(corrected)"
   ]
  },
  {
   "cell_type": "markdown",
   "id": "01cd2d2c",
   "metadata": {},
   "source": [
    "## ContextualSpellCheck: setup"
   ]
  },
  {
   "cell_type": "code",
   "execution_count": 11,
   "id": "b081ec70",
   "metadata": {},
   "outputs": [],
   "source": [
    "checker = SpellChecker(post, checker='ContextualSpellCheck')"
   ]
  },
  {
   "cell_type": "markdown",
   "id": "e7dfbe70",
   "metadata": {},
   "source": [
    "## ContextualSpellCheck: find acronyms or unexpected misspelled words"
   ]
  },
  {
   "cell_type": "code",
   "execution_count": 12,
   "id": "760bb58d",
   "metadata": {},
   "outputs": [
    {
     "data": {
      "text/plain": [
       "['unplugged',\n",
       " 'druing',\n",
       " 'RCP',\n",
       " 'exessive',\n",
       " '1A',\n",
       " 'OPS',\n",
       " 'revieled',\n",
       " 'consequent',\n",
       " 'presure',\n",
       " 'laek']"
      ]
     },
     "execution_count": 12,
     "metadata": {},
     "output_type": "execute_result"
    }
   ],
   "source": [
    "checker.getMisspelledWords()"
   ]
  },
  {
   "cell_type": "markdown",
   "id": "ffdf68b0",
   "metadata": {},
   "source": [
    "## ContextualSpellCheck: add any additional words to dictionary"
   ]
  },
  {
   "cell_type": "code",
   "execution_count": 13,
   "id": "f96217cb",
   "metadata": {},
   "outputs": [],
   "source": [
    "words = ['RCP', 'OPS', 'consequent', '1A', 'unplugged']\n",
    "checker.addWordsToDictionary(words)"
   ]
  },
  {
   "cell_type": "markdown",
   "id": "dab140bc",
   "metadata": {},
   "source": [
    "## ContextualSpellCheck: get automatically corrected text"
   ]
  },
  {
   "cell_type": "code",
   "execution_count": 14,
   "id": "a0591fb2",
   "metadata": {},
   "outputs": [
    {
     "name": "stdout",
     "output_type": "stream",
     "text": [
      "1 alarm was noticed from the RCP pump 1A.\n",
      "A light was unplugged.\n",
      "The pump - fuel gauge was found not operating.\n",
      "The pump / pressure gauge was found inoperative.\n",
      "The pump had had signs of past leakage.\n",
      "The Pump is not experiencing enough flow during test.\n",
      "Slight Vibrations is noticed - likely from pump shaft deflection.\n",
      "Pump flow meter was not responding.\n",
      "Rupture of pump bearings caused pump shaft degradation.\n",
      "Rupture of pump bearings caused pump shaft degradation and consequent flow reduction.\n",
      "Power supply has been found burnout.\n",
      "Pump test failed due to power supply failure.\n",
      "Pump inspection prevents excessive impeller degradation.\n",
      "Pump inspection revealed extensive impeller degradation likely due to cavitation.\n",
      "Oil puddle was found in proximity of the pump 1A.\n",
      "Anomalous vibrations were observed for the pump 1A.\n",
      "3 cracks on pump shaft were observed; they could have caused pump failure within 4 days.\n",
      "The pump 1 was cavitating and vibrating to some degree during test.\n",
      "This is most likely due to low flow conditions rather than mechanical issues.\n",
      "Cavitation was noticed but did not seem severe.\n",
      "The pump shaft vibration appears to be causing the motor to vibrate as well.\n",
      "Pump had noise of cavitation which became faint after it bled off the air. Low flow conditions most likely causing cavitation.\n",
      "The pump shaft deflection is causing the safety cage to rattle.\n",
      "The Pump is not experiencing enough flow for the pumps to keep the check valves open during test.\n",
      "Pump shaft made noise.\n",
      "Vibration seems like it is coming from the pump shaft.\n",
      "Visible pump shaft deflection in operation.\n",
      "Pump bearings appear in acceptable condition.\n",
      "Pump made noises - not enough to affect performance.\n",
      "Pump shaft has a slight deflection.\n"
     ]
    }
   ],
   "source": [
    "corrected = checker.correct()\n",
    "print(corrected)"
   ]
  },
  {
   "cell_type": "markdown",
   "id": "b14df21d",
   "metadata": {},
   "source": [
    "# Time autocorrect workflow"
   ]
  },
  {
   "cell_type": "code",
   "execution_count": 15,
   "id": "4c4ff247",
   "metadata": {},
   "outputs": [
    {
     "name": "stdout",
     "output_type": "stream",
     "text": [
      "autocorrect time: 0.06557178497314453 s\n",
      "===============================================================\n",
      "1 lack was noticed from the RCP pump 1A.\n",
      "A light was unplugged.\n",
      "RCP pump 1A pressure gauge was found not operating.\n",
      "RCP pump 1A pressure gauge was found inoperative.\n",
      "RCP pump 1A had signs of past leakage.\n",
      "The Pump is not experiencing enough flow during test.\n",
      "Slight Vibrations is noticed - likely from pump shaft deflection.\n",
      "Pump flow meter was not responding.\n",
      "Rupture of pump bearings caused pump shaft degradation.\n",
      "Rupture of pump bearings caused pump shaft degradation and consequent flow reduction.\n",
      "Power supply has been found burnout.\n",
      "Pump test failed due to power supply failure.\n",
      "Pump inspection reviewed excessive impeller degradation.\n",
      "Pump inspection revealed excessive impeller degradation likely due to cavitation.\n",
      "Oil puddle was found in proximity of RCP pump 1A.\n",
      "Anomalous vibrations were observed for RCP pump 1A.\n",
      "3 cracks on pump shaft were observed; they could have caused pump failure within 4 days.\n",
      "RCP pump 1A was cavitating and vibrating to some degree during test.\n",
      "This is most likely due to low flow conditions rather than mechanical issues.\n",
      "Cavitation was noticed but did not seem severe.\n",
      "The pump shaft vibration appears to be causing the motor to vibrate as well.\n",
      "Pump had noise of cavitation which became faint after OPS bled off the air. Low flow conditions most likely causing cavitation.\n",
      "The pump shaft deflection is causing the safety cage to rattle.\n",
      "The Pump is not experiencing enough flow for the pumps to keep the check valves open during test.\n",
      "Pump shaft made noise.\n",
      "Vibration seems like it is coming from the pump shaft.\n",
      "Visible pump shaft deflection in operation.\n",
      "Pump bearings appear in acceptable condition.\n",
      "Pump made noises - not enough to affect performance.\n",
      "Pump shaft has a slight deflection.\n"
     ]
    }
   ],
   "source": [
    "tic = time.time()\n",
    "preprocessorList = ['hyphenated_words',\n",
    "                    'whitespace',\n",
    "                    'numerize']\n",
    "preprocessorOptions = {}\n",
    "preprocess = Preprocessing(preprocessorList, preprocessorOptions)\n",
    "post = preprocess(text)\n",
    "checker = SpellChecker(post, checker='autocorrect')\n",
    "words = ['OPS', 'RCP']\n",
    "checker.addWordsToDictionary(words)\n",
    "corrected = checker.correct()\n",
    "print(f'autocorrect time: {time.time() - tic} s')\n",
    "print('===============================================================')\n",
    "print(corrected)"
   ]
  },
  {
   "cell_type": "markdown",
   "id": "d9118945",
   "metadata": {},
   "source": [
    "# Time ContextualSpellCheck workflow"
   ]
  },
  {
   "cell_type": "code",
   "execution_count": 16,
   "id": "e826174c",
   "metadata": {},
   "outputs": [
    {
     "name": "stdout",
     "output_type": "stream",
     "text": [
      "ContextualSpellCheck time: 6.050638437271118 s\n",
      "==============================================================\n",
      "1 alarm was noticed from the RCP pump 1A.\n",
      "A light was installed.\n",
      "The pump - fuel gauge was found not operating.\n",
      "The pump / pressure gauge was found inoperative.\n",
      "The pump had had signs of past leakage.\n",
      "The Pump is not experiencing enough flow during test.\n",
      "Slight Vibrations is noticed - likely from pump shaft deflection.\n",
      "Pump flow meter was not responding.\n",
      "Rupture of pump bearings caused pump shaft degradation.\n",
      "Rupture of pump bearings caused pump shaft degradation and consequent flow reduction.\n",
      "Power supply has been found burnout.\n",
      "Pump test failed due to power supply failure.\n",
      "Pump inspection prevents excessive impeller degradation.\n",
      "Pump inspection revealed extensive impeller degradation likely due to cavitation.\n",
      "Oil puddle was found in proximity of the pump 1A.\n",
      "Anomalous vibrations were observed for the pump 1A.\n",
      "3 cracks on pump shaft were observed; they could have caused pump failure within 4 days.\n",
      "The pump 1 was cavitating and vibrating to some degree during test.\n",
      "This is most likely due to low flow conditions rather than mechanical issues.\n",
      "Cavitation was noticed but did not seem severe.\n",
      "The pump shaft vibration appears to be causing the motor to vibrate as well.\n",
      "Pump had noise of cavitation which became faint after it bled off the air. Low flow conditions most likely causing cavitation.\n",
      "The pump shaft deflection is causing the safety cage to rattle.\n",
      "The Pump is not experiencing enough flow for the pumps to keep the check valves open during test.\n",
      "Pump shaft made noise.\n",
      "Vibration seems like it is coming from the pump shaft.\n",
      "Visible pump shaft deflection in operation.\n",
      "Pump bearings appear in acceptable condition.\n",
      "Pump made noises - not enough to affect performance.\n",
      "Pump shaft has a slight deflection.\n"
     ]
    }
   ],
   "source": [
    "tic = time.time()\n",
    "preprocessorList = ['hyphenated_words',\n",
    "                    'whitespace',\n",
    "                    'numerize']\n",
    "preprocessorOptions = {}\n",
    "preprocess = Preprocessing(preprocessorList, preprocessorOptions)\n",
    "post = preprocess(text)\n",
    "checker = SpellChecker(post, checker='ContextualSpellCheck')\n",
    "words = ['RCP', 'OPS', 'consequent', '1A']\n",
    "checker.addWordsToDictionary(words)\n",
    "corrected = checker.correct()\n",
    "print(f'ContextualSpellCheck time: {time.time() - tic} s')\n",
    "print('==============================================================')\n",
    "print(corrected)"
   ]
  }
 ],
 "metadata": {
  "hide_input": false,
  "kernelspec": {
   "display_name": "Python 3 (ipykernel)",
   "language": "python",
   "name": "python3"
  },
  "language_info": {
   "codemirror_mode": {
    "name": "ipython",
    "version": 3
   },
   "file_extension": ".py",
   "mimetype": "text/x-python",
   "name": "python",
   "nbconvert_exporter": "python",
   "pygments_lexer": "ipython3",
   "version": "3.9.10"
  }
 },
 "nbformat": 4,
 "nbformat_minor": 5
}
