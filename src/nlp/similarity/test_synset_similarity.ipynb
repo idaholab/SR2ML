{
 "cells": [
  {
   "cell_type": "code",
   "execution_count": 2,
   "id": "b460f1e1-f63d-4199-aa75-513c97e40e1d",
   "metadata": {},
   "outputs": [],
   "source": [
    "import time\n",
    "import synsetUtils as SU\n",
    "import simUtils"
   ]
  },
  {
   "cell_type": "code",
   "execution_count": 3,
   "id": "5f7b2b20-b751-4d06-8eb6-8b43aacde955",
   "metadata": {},
   "outputs": [],
   "source": [
    "### convert sentences into synsets list, and then compute similarity"
   ]
  },
  {
   "cell_type": "code",
   "execution_count": 4,
   "id": "1a168728-3b3b-44d2-88ac-a36618191b90",
   "metadata": {},
   "outputs": [],
   "source": [
    "sents = ['The workers at the industrial plant were overworked',\n",
    "'The plant was no longer bearing flowers']\n",
    "\n",
    "sentSynsets = simUtils.convertSentsToSynsets(sents)\n",
    "similarity = SU.synsetListSimilarity(sentSynsets[0], sentSynsets[1], delta=.8)"
   ]
  },
  {
   "cell_type": "code",
   "execution_count": 5,
   "id": "8b828799-15d6-4a1f-9f79-bd00de8328d5",
   "metadata": {},
   "outputs": [
    {
     "data": {
      "text/plain": [
       "0.4391840962925117"
      ]
     },
     "execution_count": 5,
     "metadata": {},
     "output_type": "execute_result"
    }
   ],
   "source": [
    "similarity"
   ]
  },
  {
   "attachments": {},
   "cell_type": "markdown",
   "id": "f8a81268-29ea-4ef4-9a36-53088374d54d",
   "metadata": {},
   "source": [
    " ### Using disambiguation method to create synsets "
   ]
  },
  {
   "cell_type": "code",
   "execution_count": 6,
   "id": "b349155c-6e69-42c5-bc84-a128ea7d8cb8",
   "metadata": {},
   "outputs": [],
   "source": [
    "import simUtils\n",
    "import synsetUtils as SU\n",
    "\n",
    "sents = ['The workers at the industrial plant were overworked',\n",
    "'The plant was no longer bearing flowers']\n",
    "\n",
    "sentSynsets = simUtils.convertSentsToSynsetsWithDisambiguation(sents)\n",
    "similarity = SU.synsetListSimilarity(sentSynsets[0], sentSynsets[1], delta=.8)"
   ]
  },
  {
   "cell_type": "code",
   "execution_count": 7,
   "id": "f4f0367b-c473-42e0-8733-c87b5be4ac94",
   "metadata": {},
   "outputs": [
    {
     "data": {
      "text/plain": [
       "0.31713942870949496"
      ]
     },
     "execution_count": 7,
     "metadata": {},
     "output_type": "execute_result"
    }
   ],
   "source": [
    "similarity"
   ]
  },
  {
   "attachments": {},
   "cell_type": "markdown",
   "id": "7d868f88-fed9-400d-a2d0-9cf77a811c35",
   "metadata": {},
   "source": [
    "### Timing for performance\n"
   ]
  },
  {
   "cell_type": "code",
   "execution_count": null,
   "id": "1c8b368e-e76b-4f4b-94c7-b1c72a490492",
   "metadata": {},
   "outputs": [
    {
     "name": "stdout",
     "output_type": "stream",
     "text": [
      "17.414528846740723 second\n"
     ]
    }
   ],
   "source": [
    "sents = ['The workers at the industrial plant were overworked',\n",
    "'The plant was no longer bearing flowers']\n",
    "\n",
    "st = time.time()\n",
    "for i in range(100):\n",
    "    sentSynsets = simUtils.convertSentsToSynsets(sents)\n",
    "print('%s second'% (time.time()-st))"
   ]
  },
  {
   "cell_type": "code",
   "execution_count": null,
   "id": "71a8acbf-d911-48a6-a971-5e9185cad99e",
   "metadata": {},
   "outputs": [
    {
     "name": "stdout",
     "output_type": "stream",
     "text": [
      "5.30937123298645 second\n"
     ]
    }
   ],
   "source": [
    "st = time.time()\n",
    "for i in range(1000):\n",
    "    similarity = SU.synsetListSimilarity(sentSynsets[0], sentSynsets[1], delta=.8)\n",
    "print('%s second'% (time.time()-st))"
   ]
  },
  {
   "cell_type": "code",
   "execution_count": null,
   "id": "66aee9d8-e0b5-4211-b2d1-c2a7133dd3c7",
   "metadata": {},
   "outputs": [],
   "source": [
    "import simUtils"
   ]
  },
  {
   "cell_type": "code",
   "execution_count": null,
   "id": "523fef2d-9490-4595-a9d9-44d7fd9b0a4a",
   "metadata": {},
   "outputs": [
    {
     "name": "stdout",
     "output_type": "stream",
     "text": [
      "2.727288007736206 second\n"
     ]
    }
   ],
   "source": [
    "st = time.time()\n",
    "sentSynsets = []\n",
    "for i in range(1000):\n",
    "    for j in range(len(sents)):\n",
    "        _, synsetsA = simUtils.sentenceSenseDisambiguationPyWSD(sents[j], senseMethod='simple_lesk', simMethod='path')\n",
    "        sentSynsets.append(synsetsA)\n",
    "print('%s second'% (time.time()-st))"
   ]
  },
  {
   "cell_type": "code",
   "execution_count": 9,
   "id": "5b04413f-e947-4b8c-a5b8-167bab4192d6",
   "metadata": {},
   "outputs": [
    {
     "data": {
      "text/plain": [
       "[[]]"
      ]
     },
     "execution_count": 9,
     "metadata": {},
     "output_type": "execute_result"
    }
   ],
   "source": [
    "a=\"ilrt depressurization\"\n",
    "simUtils.convertSentsToSynsets([a])"
   ]
  },
  {
   "cell_type": "code",
   "execution_count": 12,
   "id": "483a344c",
   "metadata": {},
   "outputs": [
    {
     "name": "stdout",
     "output_type": "stream",
     "text": [
      "ilrt []\n",
      "depressurization []\n",
      "two [Synset('two.n.01'), Synset('deuce.n.04'), Synset('two.s.01')]\n"
     ]
    }
   ],
   "source": [
    "from nltk.corpus import wordnet as wn\n",
    "for w in list(t for t in \"ilrt depressurization two\".split()):\n",
    "    syn = wn.synsets(w)\n",
    "    print(w, syn)"
   ]
  },
  {
   "cell_type": "code",
   "execution_count": null,
   "id": "a27562f5",
   "metadata": {},
   "outputs": [],
   "source": []
  }
 ],
 "metadata": {
  "kernelspec": {
   "display_name": "Python 3 (ipykernel)",
   "language": "python",
   "name": "python3"
  },
  "language_info": {
   "codemirror_mode": {
    "name": "ipython",
    "version": 3
   },
   "file_extension": ".py",
   "mimetype": "text/x-python",
   "name": "python",
   "nbconvert_exporter": "python",
   "pygments_lexer": "ipython3",
   "version": "3.9.13"
  }
 },
 "nbformat": 4,
 "nbformat_minor": 5
}
