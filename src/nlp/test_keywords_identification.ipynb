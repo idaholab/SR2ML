{
 "cells": [
  {
   "cell_type": "raw",
   "id": "81b2a496",
   "metadata": {},
   "source": [
    "This notebook is designed to identify the keywords listed in the abbreviations.xlsx file\n",
    "Keywords are grouped in different categories (e.g., electrical, mechanical, hydraulic components, systems, organizations)"
   ]
  },
  {
   "cell_type": "code",
   "execution_count": 425,
   "id": "35940cd9",
   "metadata": {},
   "outputs": [
    {
     "name": "stderr",
     "output_type": "stream",
     "text": [
      "/Users/mandd/opt/miniconda3/envs/myEnv/lib/python3.8/site-packages/spacy/util.py:837: UserWarning: [W095] Model 'en_core_web_sm' (3.2.0) was trained with spaCy v3.2 and may not be 100% compatible with the current version (3.3.0). If you see errors or degraded performance, download a newer compatible model or retrain your custom model with the current spaCy version. For more details and available updates, run: python -m spacy validate\n",
      "  warnings.warn(warn_msg)\n"
     ]
    }
   ],
   "source": [
    "# external imports\n",
    "import pandas as pd\n",
    "import spacy\n",
    "\n",
    "# internal imports\n",
    "from PhraseEntityMatcher import PhraseEntityMatcher\n",
    "nlp = spacy.load(\"en_core_web_sm\")"
   ]
  },
  {
   "cell_type": "code",
   "execution_count": 426,
   "id": "f8c6b020",
   "metadata": {},
   "outputs": [],
   "source": [
    "# Method designed to:\n",
    "# 1- identify acronyms defined into elements of a list (list2edit)\n",
    "# 2- save them into a dict (acronymsDict)\n",
    "# 3- remove the acronym definition from element of list (list2edit)\n",
    "def decoupleAcronym(list2edit,acronymsDict):\n",
    "    for index,elem in enumerate(list2edit):\n",
    "        if elem.find('(')!=-1 and elem.find(')')!=-1:\n",
    "            acr = elem[elem.find('(')+1:elem.find(')')]\n",
    "            list2edit[index] = elem.replace(\"(\"+acr+\")\", \"\").strip()\n",
    "            acronymsDict[acr.strip()] = list2edit[index]\n",
    "    return list2edit, acronymsDict"
   ]
  },
  {
   "cell_type": "code",
   "execution_count": 427,
   "id": "309f43ce",
   "metadata": {},
   "outputs": [
    {
     "name": "stdout",
     "output_type": "stream",
     "text": [
      "['triode for alternating current'] {'triac': 'triode for alternating current'}\n"
     ]
    }
   ],
   "source": [
    "# test for decoupleAcronym method \n",
    "acrDict = {}\n",
    "txt = [\"triode for alternating current (triac )\"]\n",
    "txtclnd,acrDict = decoupleAcronym(txt, acrDict)\n",
    "print(txtclnd,acrDict)"
   ]
  },
  {
   "cell_type": "code",
   "execution_count": 428,
   "id": "7136e3ac",
   "metadata": {},
   "outputs": [],
   "source": [
    "# Method to\n",
    "# 1- identify acronyms defined in dictionary (keywordsDict)\n",
    "# 2- save acronyms into a dict (acronymsDict)\n",
    "# keywordsDict = {tag1: [...], tag2: [...], ..., tagN: [...]}\n",
    "def cleanKeywordsDict(keywordsDict):\n",
    "    acronymsDict = {}\n",
    "    for key in keywordsDict.keys():\n",
    "        keywordsDict[key], acronymsDict = decoupleAcronym(keywordsDict[key],acronymsDict)\n",
    "    return keywordsDict, acronymsDict"
   ]
  },
  {
   "cell_type": "code",
   "execution_count": 429,
   "id": "1b0d85f5",
   "metadata": {},
   "outputs": [
    {
     "name": "stdout",
     "output_type": "stream",
     "text": [
      "{'p1': ['triode for alternating current', 'alternate current'], 'p2': ['triode ']}\n",
      "{'triac': 'triode for alternating current', 'AC': 'alternate current'}\n"
     ]
    }
   ],
   "source": [
    "# test for cleanKeywordsDict method \n",
    "txt = {\"p1\":[\"triode for alternating current (triac )\", \"alternate current (AC)\"], \"p2\":[\"triode \"]}\n",
    "txtCleaned, acronymsDict = cleanKeywordsDict(txt)\n",
    "print(txtCleaned)\n",
    "print(acronymsDict)"
   ]
  },
  {
   "cell_type": "code",
   "execution_count": 430,
   "id": "12e6d6f1",
   "metadata": {},
   "outputs": [],
   "source": [
    "keywordSetFile = \"./data/tag_keywords_lists.xlsx\"\n",
    "xls = pd.ExcelFile(keywordSetFile)"
   ]
  },
  {
   "cell_type": "code",
   "execution_count": 431,
   "id": "f163d117",
   "metadata": {},
   "outputs": [],
   "source": [
    "# Dictionary of keywords. Set of keywords are grouped into classes \n",
    "# This dictionary is structured as follows:\n",
    "# keywordsDict = {keyword_tag_ID: [list of keywords which belong to the same class]}\n",
    "# If any of these keyowrds is located in the text, then such keywords should be tagged with \n",
    "# their own ID (i.e., keyword_tag_ID)\n",
    "keywordsDict = {}"
   ]
  },
  {
   "cell_type": "code",
   "execution_count": 432,
   "id": "edddb29c",
   "metadata": {},
   "outputs": [],
   "source": [
    "mechKWDF      = pd.read_excel(xls,'comp_mech')\n",
    "elnHydKWDF    = pd.read_excel(xls,'comp_eln_hyd')\n",
    "assetsDF      = pd.read_excel(xls,'assets')\n",
    "systemsDF     = pd.read_excel(xls,'systems')\n",
    "toolsTreatsDF = pd.read_excel(xls,'tools_treatments')\n",
    "operandsDF    = pd.read_excel(xls,'operands')\n",
    "matCompDF     = pd.read_excel(xls,'mat_comp')\n",
    "reactionDF    = pd.read_excel(xls,'reactions')\n",
    "nucOrgDF      = pd.read_excel(xls,'organizations')"
   ]
  },
  {
   "cell_type": "code",
   "execution_count": 433,
   "id": "3126224f",
   "metadata": {},
   "outputs": [],
   "source": [
    "# Clean dataframe\n",
    "mechKWDF.replace(u'\\xa0',u''     , regex=True, inplace=True)\n",
    "elnHydKWDF.replace(u'\\xa0',u''   , regex=True, inplace=True)\n",
    "assetsDF.replace(u'\\xa0',u''     , regex=True, inplace=True)\n",
    "systemsDF.replace(u'\\xa0',u''    , regex=True, inplace=True)\n",
    "toolsTreatsDF.replace(u'\\xa0',u'', regex=True, inplace=True)\n",
    "operandsDF.replace(u'\\xa0',u''   , regex=True, inplace=True)\n",
    "matCompDF.replace(u'\\xa0',u''    , regex=True, inplace=True)\n",
    "reactionDF.replace(u'\\xa0',u''   , regex=True, inplace=True)\n",
    "nucOrgDF.replace(u'\\xa0',u''     , regex=True, inplace=True)"
   ]
  },
  {
   "cell_type": "code",
   "execution_count": 434,
   "id": "17609a89",
   "metadata": {},
   "outputs": [],
   "source": [
    "# mechanical components\n",
    "keywordsDict['comp_mech_fast']   = mechKWDF['Fasteners'].to_frame().dropna().applymap(str.lower).values.T[0].tolist()\n",
    "keywordsDict['comp_mech_rot']    = mechKWDF['Elements of rotary motion drive'].to_frame().dropna().applymap(str.lower).values.T[0].tolist()\n",
    "keywordsDict['comp_mech_struct'] = mechKWDF['Structural'].to_frame().dropna().applymap(str.lower).values.T[0].tolist()\n",
    "keywordsDict['comp_mech_spec']   = mechKWDF['Specific purpose'].to_frame().dropna().applymap(str.lower).values.T[0].tolist()\n",
    "\n",
    "# electrical, electronic, hydraulic and pneumatic components\n",
    "keywordsDict['comp_elt_eln'] = elnHydKWDF['Electrical/electronic'].to_frame().dropna().applymap(str.lower).values.T[0].tolist()\n",
    "keywordsDict['comp_hyd_pne'] = elnHydKWDF['Hydraulic/Pneumatic'].to_frame().dropna().applymap(str.lower).values.T[0].tolist()\n",
    "\n",
    "# assets\n",
    "keywordsDict['ast_mech']    = assetsDF['Mechanical'].to_frame().dropna().applymap(str.lower).values.T[0].tolist()\n",
    "keywordsDict['ast_elt']     = assetsDF['Electrical'].to_frame().dropna().applymap(str.lower).values.T[0].tolist()\n",
    "keywordsDict['ast_hyd_pne'] = assetsDF['Hydraulic/Pneumatic'].to_frame().dropna().applymap(str.lower).values.T[0].tolist()\n",
    "keywordsDict['ast_eln']     = assetsDF['Electronic'].to_frame().dropna().applymap(str.lower).values.T[0].tolist()\n",
    "keywordsDict['ast_I&C']     = assetsDF['I&C'].to_frame().dropna().applymap(str.lower).values.T[0].tolist()\n",
    "keywordsDict['ast_fuel']    = assetsDF['Fuel'].to_frame().dropna().applymap(str.lower).values.T[0].tolist()\n",
    "\n",
    "# systems and architectural elements\n",
    "keywordsDict['sys']  = systemsDF['Systems'].to_frame().dropna().applymap(str.lower).values.T[0].tolist()\n",
    "keywordsDict['arch'] = systemsDF['Buildings/rooms'].to_frame().dropna().applymap(str.lower).values.T[0].tolist()\n",
    "\n",
    "# tools and tratments sheet\n",
    "keywordsDict['tool'] = toolsTreatsDF['Tools'].to_frame().dropna().applymap(str.lower).values.T[0].tolist()\n",
    "keywordsDict['ops']  = toolsTreatsDF['Treatments/operations/testing'].to_frame().dropna().applymap(str.lower).values.T[0].tolist()\n",
    "\n",
    "# operands sheet\n",
    "keywordsDict['opd_elt']     = operandsDF['Electrical'].to_frame().dropna().applymap(str.lower).values.T[0].tolist()\n",
    "keywordsDict['opd_hyd_pne'] = operandsDF['Hydraulic/Pneumatic'].to_frame().dropna().applymap(str.lower).values.T[0].tolist()\n",
    "keywordsDict['opd_prop']    = operandsDF['Properties'].to_frame().dropna().applymap(str.lower).values.T[0].tolist()\n",
    "keywordsDict['meas_units']  = operandsDF['Units'].to_frame().dropna().applymap(str.lower).values.T[0].tolist()\n",
    "\n",
    "# mat_comp sheet\n",
    "keywordsDict['chem_cmpd'] = matCompDF['Chemical compounds'].to_frame().dropna().applymap(str.lower).values.T[0].tolist()\n",
    "keywordsDict['chem_elem'] = matCompDF['Chemical elements'].to_frame().dropna().applymap(str.lower).values.T[0].tolist()\n",
    "keywordsDict['mat']       = matCompDF['Material'].to_frame().dropna().applymap(str.lower).values.T[0].tolist()\n",
    "keywordsDict['mat_class'] = matCompDF['Material classes'].to_frame().dropna().applymap(str.lower).values.T[0].tolist()\n",
    "\n",
    "# organization sheet\n",
    "keywordsDict['chem_rx']   = reactionDF['Chemical reaction'].to_frame().dropna().applymap(str.lower).values.T[0].tolist()\n",
    "keywordsDict['deg_mech']  = reactionDF['Degradation mechanism'].to_frame().dropna().applymap(str.lower).values.T[0].tolist()\n",
    "keywordsDict['fail_type'] = reactionDF['Failure type'].to_frame().dropna().applymap(str.lower).values.T[0].tolist()\n",
    "\n",
    "# organization sheet\n",
    "keywordsDict['nuc_org'] = nucOrgDF['acronym'].to_frame().dropna().applymap(str.lower).values.T[0].tolist()"
   ]
  },
  {
   "cell_type": "code",
   "execution_count": 435,
   "id": "ed40197f",
   "metadata": {},
   "outputs": [],
   "source": [
    "# clean keywordsDict\n",
    "keywordsDictCleaned, acronymsDict = cleanKeywordsDict(keywordsDict)  "
   ]
  },
  {
   "cell_type": "code",
   "execution_count": 436,
   "id": "8d866c30",
   "metadata": {},
   "outputs": [],
   "source": [
    "# Initialize a phrase matcher for each class\n",
    "pmatcherList = []\n",
    "\n",
    "for key in keywordsDict.keys():\n",
    "    pmatcher = PhraseEntityMatcher(nlp, key, keywordsDict[key])\n",
    "    pmatcherList.append(pmatcher)"
   ]
  },
  {
   "cell_type": "code",
   "execution_count": 437,
   "id": "9261a638",
   "metadata": {},
   "outputs": [
    {
     "name": "stdout",
     "output_type": "stream",
     "text": [
      "shaft comp_mech_rot\n",
      "cage comp_mech_struct\n",
      "flow opd_prop\n",
      "Pump ast_hyd_pne\n",
      "flow opd_prop\n",
      "Shaft ORG\n",
      "Vibration deg_mech\n",
      "shaft comp_mech_rot\n"
     ]
    }
   ],
   "source": [
    "rawdoc = \"The shaft deflection is causing the safety cage to rattle. \\\n",
    "          Pumps not experiencing enough flow for the pumps to keep the check valves open during test. \\\n",
    "          Pump not experiencing enough flow during test. Shaft made noise. Vibration seems like it is coming from the shaft.\"\n",
    "\n",
    "doc = nlp(rawdoc)\n",
    "processedDoc = doc\n",
    "for pmatch in pmatcherList:\n",
    "    processedDoc = pmatch(processedDoc)\n",
    "\n",
    "for ent in processedDoc.ents:\n",
    "    print(ent, ent.label_)"
   ]
  },
  {
   "cell_type": "code",
   "execution_count": null,
   "id": "f49ec888",
   "metadata": {},
   "outputs": [],
   "source": []
  }
 ],
 "metadata": {
  "kernelspec": {
   "display_name": "Python 3 (ipykernel)",
   "language": "python",
   "name": "python3"
  },
  "language_info": {
   "codemirror_mode": {
    "name": "ipython",
    "version": 3
   },
   "file_extension": ".py",
   "mimetype": "text/x-python",
   "name": "python",
   "nbconvert_exporter": "python",
   "pygments_lexer": "ipython3",
   "version": "3.8.16"
  }
 },
 "nbformat": 4,
 "nbformat_minor": 5
}
